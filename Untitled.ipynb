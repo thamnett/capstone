{
 "cells": [
  {
   "cell_type": "code",
   "execution_count": 1,
   "metadata": {
    "collapsed": true
   },
   "outputs": [],
   "source": [
    "import pandas as pd"
   ]
  },
  {
   "cell_type": "code",
   "execution_count": 5,
   "metadata": {
    "collapsed": false
   },
   "outputs": [],
   "source": [
    "df = pd.read_csv('data.csv')"
   ]
  },
  {
   "cell_type": "code",
   "execution_count": 6,
   "metadata": {
    "collapsed": false
   },
   "outputs": [
    {
     "data": {
      "text/html": [
       "<div>\n",
       "<table border=\"1\" class=\"dataframe\">\n",
       "  <thead>\n",
       "    <tr style=\"text-align: right;\">\n",
       "      <th></th>\n",
       "      <th>Unnamed: 0</th>\n",
       "      <th>Symbol</th>\n",
       "      <th>Sector</th>\n",
       "      <th>Date</th>\n",
       "      <th>Quarter</th>\n",
       "      <th>Intraday</th>\n",
       "      <th>SurpriseVal</th>\n",
       "      <th>Q</th>\n",
       "    </tr>\n",
       "  </thead>\n",
       "  <tbody>\n",
       "    <tr>\n",
       "      <th>0</th>\n",
       "      <td>0</td>\n",
       "      <td>A</td>\n",
       "      <td>Capital Goods</td>\n",
       "      <td>2005-08-15</td>\n",
       "      <td>Q3/2005</td>\n",
       "      <td>0.019194</td>\n",
       "      <td>0.010</td>\n",
       "      <td>2005-Q3</td>\n",
       "    </tr>\n",
       "    <tr>\n",
       "      <th>1</th>\n",
       "      <td>1</td>\n",
       "      <td>A</td>\n",
       "      <td>Capital Goods</td>\n",
       "      <td>2005-11-14</td>\n",
       "      <td>Q4/2005</td>\n",
       "      <td>0.000914</td>\n",
       "      <td>0.017</td>\n",
       "      <td>2005-Q4</td>\n",
       "    </tr>\n",
       "    <tr>\n",
       "      <th>2</th>\n",
       "      <td>2</td>\n",
       "      <td>A</td>\n",
       "      <td>Capital Goods</td>\n",
       "      <td>2006-02-13</td>\n",
       "      <td>Q1/2006</td>\n",
       "      <td>-0.020739</td>\n",
       "      <td>-0.030</td>\n",
       "      <td>2006-Q1</td>\n",
       "    </tr>\n",
       "    <tr>\n",
       "      <th>3</th>\n",
       "      <td>3</td>\n",
       "      <td>A</td>\n",
       "      <td>Capital Goods</td>\n",
       "      <td>2007-05-14</td>\n",
       "      <td>Q2/2007</td>\n",
       "      <td>-0.015907</td>\n",
       "      <td>-0.004</td>\n",
       "      <td>2007-Q2</td>\n",
       "    </tr>\n",
       "    <tr>\n",
       "      <th>4</th>\n",
       "      <td>4</td>\n",
       "      <td>A</td>\n",
       "      <td>Capital Goods</td>\n",
       "      <td>2007-11-15</td>\n",
       "      <td>Q4/2007</td>\n",
       "      <td>0.000295</td>\n",
       "      <td>-0.046</td>\n",
       "      <td>2007-Q4</td>\n",
       "    </tr>\n",
       "  </tbody>\n",
       "</table>\n",
       "</div>"
      ],
      "text/plain": [
       "   Unnamed: 0 Symbol         Sector        Date  Quarter  Intraday  \\\n",
       "0           0      A  Capital Goods  2005-08-15  Q3/2005  0.019194   \n",
       "1           1      A  Capital Goods  2005-11-14  Q4/2005  0.000914   \n",
       "2           2      A  Capital Goods  2006-02-13  Q1/2006 -0.020739   \n",
       "3           3      A  Capital Goods  2007-05-14  Q2/2007 -0.015907   \n",
       "4           4      A  Capital Goods  2007-11-15  Q4/2007  0.000295   \n",
       "\n",
       "   SurpriseVal        Q  \n",
       "0        0.010  2005-Q3  \n",
       "1        0.017  2005-Q4  \n",
       "2       -0.030  2006-Q1  \n",
       "3       -0.004  2007-Q2  \n",
       "4       -0.046  2007-Q4  "
      ]
     },
     "execution_count": 6,
     "metadata": {},
     "output_type": "execute_result"
    }
   ],
   "source": [
    "df.head()"
   ]
  },
  {
   "cell_type": "code",
   "execution_count": null,
   "metadata": {
    "collapsed": true
   },
   "outputs": [],
   "source": []
  }
 ],
 "metadata": {
  "kernelspec": {
   "display_name": "Python 2",
   "language": "python",
   "name": "python2"
  },
  "language_info": {
   "codemirror_mode": {
    "name": "ipython",
    "version": 2
   },
   "file_extension": ".py",
   "mimetype": "text/x-python",
   "name": "python",
   "nbconvert_exporter": "python",
   "pygments_lexer": "ipython2",
   "version": "2.7.12"
  }
 },
 "nbformat": 4,
 "nbformat_minor": 1
}
